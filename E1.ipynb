{
 "cells": [
  {
   "cell_type": "markdown",
   "metadata": {},
   "source": [
    "# Examen 2: Ejercicios de Python.\n"
   ]
  },
  {
   "cell_type": "markdown",
   "metadata": {},
   "source": [
    "Al momento de responder las preguntas, cerciorense de que les imprima el resultado. "
   ]
  },
  {
   "cell_type": "markdown",
   "metadata": {},
   "source": [
    "### 1.- Dando lista A = [3, 2, 7, 4, 12, 9, 6, 1] desarrolla los siguientes 3 ejercicios.\n",
    "\n",
    "- Imprime la sumatoria de todos los elementos.\n",
    "- Ordenalos de mayor a menor.\n",
    "- Haz una nueva lista pero solo con sus elementos pares."
   ]
  },
  {
   "cell_type": "code",
   "execution_count": 1,
   "metadata": {},
   "outputs": [
    {
     "data": {
      "text/plain": [
       "44"
      ]
     },
     "execution_count": 1,
     "metadata": {},
     "output_type": "execute_result"
    }
   ],
   "source": [
    "#(Puntos 5)\n",
    "# Imprime la sumatoria de todos los elementos en a = [3, 2, 7, 4, 12, 9, 6, 1].\n",
    "a=[3,2,7,4,12,9,6,1]\n",
    "sum(a)"
   ]
  },
  {
   "cell_type": "code",
   "execution_count": 2,
   "metadata": {},
   "outputs": [
    {
     "data": {
      "text/plain": [
       "[1, 2, 3, 4, 6, 7, 9, 12]"
      ]
     },
     "execution_count": 2,
     "metadata": {},
     "output_type": "execute_result"
    }
   ],
   "source": [
    "#(Puntos 10)\n",
    "# Ordenalos de mayor a menor\n",
    "sorted(a)"
   ]
  },
  {
   "cell_type": "code",
   "execution_count": 13,
   "metadata": {},
   "outputs": [
    {
     "data": {
      "text/plain": [
       "[2, 4, 12, 6]"
      ]
     },
     "execution_count": 13,
     "metadata": {},
     "output_type": "execute_result"
    }
   ],
   "source": [
    "#(Puntos 10)\n",
    "# Haz una nueva lista pero solo con sus elementos pares\n",
    "\n",
    "a=[3,2,7,4,12,9,6,1]\n",
    "\n",
    "even_num=[num for num in a if num % 2 == 0]\n",
    "even_num"
   ]
  },
  {
   "cell_type": "markdown",
   "metadata": {},
   "source": [
    "### 2.- Dale valor a dos variables y realiza 5 funciones que regresen como resultado diferentes operaciones aritmeticas (suma, resta, etc...). "
   ]
  },
  {
   "cell_type": "code",
   "execution_count": 78,
   "metadata": {},
   "outputs": [
    {
     "data": {
      "text/plain": [
       "5"
      ]
     },
     "execution_count": 78,
     "metadata": {},
     "output_type": "execute_result"
    }
   ],
   "source": [
    "#(Puntos 15)\n",
    "\n",
    "x=2\n",
    "y=3\n",
    "\n",
    "sum=x+y\n",
    "sum"
   ]
  },
  {
   "cell_type": "code",
   "execution_count": 7,
   "metadata": {},
   "outputs": [
    {
     "data": {
      "text/plain": [
       "-1"
      ]
     },
     "execution_count": 7,
     "metadata": {},
     "output_type": "execute_result"
    }
   ],
   "source": [
    "sub=x-y\n",
    "sub"
   ]
  },
  {
   "cell_type": "code",
   "execution_count": 8,
   "metadata": {},
   "outputs": [
    {
     "data": {
      "text/plain": [
       "6"
      ]
     },
     "execution_count": 8,
     "metadata": {},
     "output_type": "execute_result"
    }
   ],
   "source": [
    "mul=x*y\n",
    "mul"
   ]
  },
  {
   "cell_type": "code",
   "execution_count": 9,
   "metadata": {},
   "outputs": [
    {
     "data": {
      "text/plain": [
       "0.6666666666666666"
      ]
     },
     "execution_count": 9,
     "metadata": {},
     "output_type": "execute_result"
    }
   ],
   "source": [
    "div=x/y\n",
    "div"
   ]
  },
  {
   "cell_type": "markdown",
   "metadata": {},
   "source": [
    "### 3.- Dada la lista A = [3, 2, 7, 4, 12, 9, 6, 1] y lista B = [13, 16, 21, 34, 18, 17, 11, 10] crea una lista nueva que contenga solo los datos impares de ambas listas."
   ]
  },
  {
   "cell_type": "code",
   "execution_count": 18,
   "metadata": {},
   "outputs": [
    {
     "data": {
      "text/plain": [
       "[3, 7, 9, 1, 13, 21, 17, 11]"
      ]
     },
     "execution_count": 18,
     "metadata": {},
     "output_type": "execute_result"
    }
   ],
   "source": [
    "#(Puntos 15)\n",
    "\n",
    "a=[3,2,7,4,12,9,6,1]\n",
    "b=[13,16,21,34,18,17,11,10]\n",
    "\n",
    "odd_num_a = [num for num in a if num % 2 == 1]\n",
    "\n",
    "odd_num_b = [num for num in b if num % 2 == 1]\n",
    "\n",
    "final_list = odd_num_a + odd_num_b\n",
    "final_list"
   ]
  },
  {
   "cell_type": "markdown",
   "metadata": {},
   "source": [
    "### 4.- Dadas las variables W = 11, X = 17, Y = 32, Z = 65, crea una función que clasifique por grupos de edad (niño, adolecente, adulto, adulto mayor. (Utiliza el elif)"
   ]
  },
  {
   "cell_type": "code",
   "execution_count": 32,
   "metadata": {},
   "outputs": [
    {
     "name": "stdout",
     "output_type": "stream",
     "text": [
      " El individuo es un anciano \n"
     ]
    }
   ],
   "source": [
    "#(Puntos 15)\n",
    "\n",
    "w=11\n",
    "x=17\n",
    "y=32\n",
    "z=65\n",
    "\n",
    "edad=66 #Aquí ingresar edad del individuo\n",
    "\n",
    "if (edad <= w):\n",
    "    print(\" El individuo es un niño \")\n",
    "elif (edad > w and edad <=x):  \n",
    "        print(\" El individuo es un adolescente \") \n",
    "elif (edad > x and edad <= y):\n",
    "        print(\" El individuo es un adulto \")\n",
    "elif (edad > y and edad <=z):\n",
    "        print(\" El individuo es un adulto mayor\") \n",
    "elif (edad>z):\n",
    "        print(\" El individuo es un anciano \")"
   ]
  },
  {
   "cell_type": "markdown",
   "metadata": {},
   "source": [
    "### 5.- Utilizando cualquiera de las condicionales (for, if, while...) imprime los siguientes patrones tal y como aparecen en el comentario, respetando los espacios y los saltos de renglon.\n"
   ]
  },
  {
   "cell_type": "code",
   "execution_count": 64,
   "metadata": {},
   "outputs": [
    {
     "name": "stdout",
     "output_type": "stream",
     "text": [
      "\n",
      "1 \n",
      "2 2 \n",
      "3 3 3 \n",
      "4 4 4 4 \n",
      "5 5 5 5 5 \n"
     ]
    }
   ],
   "source": [
    "#(Puntos 10)\n",
    "#1 \n",
    "#2 2\n",
    "#3 3 3\n",
    "#4 4 4 4\n",
    "#5 5 5 5 5\n",
    "        \n",
    "for i in range(6):\n",
    "    for j in range(i):\n",
    "        print( i ,end=\" \")\n",
    "    print()"
   ]
  },
  {
   "cell_type": "code",
   "execution_count": 75,
   "metadata": {},
   "outputs": [
    {
     "name": "stdout",
     "output_type": "stream",
     "text": [
      "5 4 3 2 1 \n",
      "4 3 2 1 \n",
      "3 2 1 \n",
      "2 1 \n",
      "1 \n"
     ]
    }
   ],
   "source": [
    "#(Puntos 15)\n",
    "#5 4 3 2 1 \n",
    "#4 3 2 1\n",
    "#3 2 1 \n",
    "#2 1\n",
    "#1\n",
    "\n",
    "n=5\n",
    "\n",
    "for i in range (n, 0, -1): \n",
    "    for j in range(i):\n",
    "        print( abs(j-i) ,end=\" \")\n",
    "    print()"
   ]
  },
  {
   "cell_type": "markdown",
   "metadata": {},
   "source": [
    "### 6.- Con la lista A = [3, 2, 7, 4, 12, 9, 6, 1] y el uso de condicionales, imprime una nueva lista con cada uno de los elementos de la lista A, al cuadrado."
   ]
  },
  {
   "cell_type": "code",
   "execution_count": 81,
   "metadata": {},
   "outputs": [
    {
     "name": "stdout",
     "output_type": "stream",
     "text": [
      "[9, 4, 49, 16, 144, 81, 36, 1]\n"
     ]
    }
   ],
   "source": [
    "#(Puntos 10)\n",
    "\n",
    "b=[]\n",
    "a=[3,2,7,4,12,9,6,1]\n",
    "b=[]\n",
    "\n",
    "for i in a:\n",
    "    b.append(i**2)\n",
    "\n",
    "    \n",
    "print(b)"
   ]
  },
  {
   "cell_type": "markdown",
   "metadata": {},
   "source": [
    "### (Extra puntos 5.) \n",
    "\n",
    "Conteste los tres puntos para obtener la totalidad de los puntos.\n",
    "*Mencione al menos 3 palabras reservadas para el lenguaje de programación de Python.\n",
    "*Describa la diferencia principal entre las listas y las tuplas en Python.\n",
    "*Describa para que sirve el condicional ELIF.\n",
    "\n",
    "Respuestas:\n",
    "1)print,exec,import.\n",
    "2)Las listas son mutables mientras que las tuplas no lo son.\n",
    "3)Para ejecutar una instrucción condicional en caso de que las otras instrucciones no se cumplan."
   ]
  }
 ],
 "metadata": {
  "kernelspec": {
   "display_name": "Python 3",
   "language": "python",
   "name": "python3"
  },
  "language_info": {
   "codemirror_mode": {
    "name": "ipython",
    "version": 3
   },
   "file_extension": ".py",
   "mimetype": "text/x-python",
   "name": "python",
   "nbconvert_exporter": "python",
   "pygments_lexer": "ipython3",
   "version": "3.7.6"
  }
 },
 "nbformat": 4,
 "nbformat_minor": 2
}
